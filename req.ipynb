{
 "cells": [
  {
   "cell_type": "code",
   "execution_count": 32,
   "metadata": {},
   "outputs": [],
   "source": [
    "with open(r\"C:\\Users\\91882\\Downloads\\req\\requirements.txt\") as f:\n",
    "    w = f.readlines()"
   ]
  },
  {
   "cell_type": "code",
   "execution_count": 33,
   "metadata": {},
   "outputs": [],
   "source": [
    "w = w[2:]"
   ]
  },
  {
   "cell_type": "code",
   "execution_count": 34,
   "metadata": {},
   "outputs": [],
   "source": [
    "new_list = []\n",
    "for i in range(len(w)):\n",
    "    #print(w[i].split())\n",
    "    new_list.append(w[i].split()[0]+\"==\"+w[i].split()[1])"
   ]
  },
  {
   "cell_type": "code",
   "execution_count": 35,
   "metadata": {},
   "outputs": [],
   "source": [
    "with open(\"reqtest.txt\",'w') as f:\n",
    "    for line in new_list:\n",
    "        f.write(f\"{line}\\n\")"
   ]
  },
  {
   "cell_type": "code",
   "execution_count": 65,
   "metadata": {},
   "outputs": [],
   "source": [
    "import logging\n",
    "\n",
    "class Requirements:\n",
    "    def __init__(self, file_path,outputpath):\n",
    "        self.filepath = file_path\n",
    "        self.outputpath =outputpath\n",
    "\n",
    "    def preparefile(self):\n",
    "        with open(self.filepath) as f:\n",
    "            self.read_list = f.readlines()\n",
    "        logging.info(\"FILEREAD\")\n",
    "        self.read_list = self.read_list[2:]\n",
    "        new_list = []\n",
    "        for i in range(len(w)):\n",
    "            new_list.append(w[i].split()[0]+\"==\"+w[i].split()[1])  \n",
    "        return new_list\n",
    "    def requirementfile(self):\n",
    "        self.new_list = self.preparefile()\n",
    "        with open(self.outputpath,\"w\") as f:\n",
    "            for line in self.new_list:\n",
    "                f.write(f\"{line}\\n\")    \n",
    "        logging.info(\"Requirement File Created\")  "
   ]
  },
  {
   "cell_type": "code",
   "execution_count": 66,
   "metadata": {},
   "outputs": [],
   "source": [
    "req = Requirements(r\"c:\\Users\\91882\\Downloads\\req\\requirements.txt\",r\"c:\\Users\\91882\\Downloads\\req\\req-using-class.txt\")"
   ]
  },
  {
   "cell_type": "code",
   "execution_count": 67,
   "metadata": {},
   "outputs": [
    {
     "name": "stderr",
     "output_type": "stream",
     "text": [
      "INFO:root:FILEREAD\n",
      "INFO:root:Requirement File Created\n"
     ]
    }
   ],
   "source": [
    "req.requirementfile()"
   ]
  },
  {
   "cell_type": "code",
   "execution_count": null,
   "metadata": {},
   "outputs": [],
   "source": []
  },
  {
   "cell_type": "code",
   "execution_count": null,
   "metadata": {},
   "outputs": [],
   "source": []
  }
 ],
 "metadata": {
  "kernelspec": {
   "display_name": "sign",
   "language": "python",
   "name": "python3"
  },
  "language_info": {
   "codemirror_mode": {
    "name": "ipython",
    "version": 3
   },
   "file_extension": ".py",
   "mimetype": "text/x-python",
   "name": "python",
   "nbconvert_exporter": "python",
   "pygments_lexer": "ipython3",
   "version": "3.8.16"
  }
 },
 "nbformat": 4,
 "nbformat_minor": 2
}
